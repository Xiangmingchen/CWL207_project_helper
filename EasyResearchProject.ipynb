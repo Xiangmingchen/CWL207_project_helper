{
 "cells": [
  {
   "cell_type": "code",
   "execution_count": 1,
   "metadata": {},
   "outputs": [],
   "source": [
    "from PIL import Image\n",
    "import matplotlib.pyplot as plt\n",
    "import numpy as np\n",
    "import pytesseract\n",
    "import cv2\n",
    "import os"
   ]
  },
  {
   "cell_type": "code",
   "execution_count": 3,
   "metadata": {},
   "outputs": [],
   "source": [
    "filename = \"example1.png\"\n",
    "img = cv2.imread(filename)\n",
    "data = pytesseract.image_to_data(Image.open(filename))"
   ]
  },
  {
   "cell_type": "code",
   "execution_count": 4,
   "metadata": {},
   "outputs": [],
   "source": [
    "filename2 = \"example1.png\"\n",
    "data2 = pytesseract.image_to_data(Image.open(filename2))"
   ]
  },
  {
   "cell_type": "code",
   "execution_count": 5,
   "metadata": {},
   "outputs": [
    {
     "data": {
      "text/plain": [
       "<matplotlib.image.AxesImage at 0x116adbda0>"
      ]
     },
     "execution_count": 5,
     "metadata": {},
     "output_type": "execute_result"
    },
    {
     "data": {
      "image/png": "[encoded data removed]",
      "text/plain": [
       "<Figure size 432x288 with 1 Axes>"
      ]
     },
     "metadata": {
      "needs_background": "light"
     },
     "output_type": "display_data"
    }
   ],
   "source": [
    "plt.imshow(img)"
   ]
  },
  {
   "cell_type": "code",
   "execution_count": 7,
   "metadata": {},
   "outputs": [
    {
     "name": "stdout",
     "output_type": "stream",
     "text": [
      "level\tpage_num\tblock_num\tpar_num\tline_num\tword_num\tleft\ttop\twidth\theight\tconf\ttext\n",
      "1\t1\t0\t0\t0\t0\t0\t0\t782\t836\t-1\t\n",
      "2\t1\t1\t0\t0\t0\t89\t7\t246\t56\t-1\t\n",
      "3\t1\t1\t1\t0\t0\t89\t7\t246\t56\t-1\t\n",
      "4\t1\t1\t1\t1\t0\t89\t7\t246\t56\t-1\t\n",
      "5\t1\t1\t1\t1\t1\t89\t7\t246\t56\t89\tNAAZ\n",
      "2\t1\t2\t0\t0\t0\t12\t79\t252\t84\t-1\t\n",
      "3\t1\t2\t1\t0\t0\t12\t79\t252\t84\t-1\t\n",
      "4\t1\t2\t1\t1\t0\t12\t79\t252\t80\t-1\t\n",
      "5\t1\t2\t1\t1\t1\t12\t81\t133\t78\t4\ta).\n",
      "5\t1\t2\t1\t1\t2\t151\t79\t113\t80\t0\t4\n",
      "4\t1\t2\t1\t2\t0\t63\t127\t52\t36\t-1\t\n",
      "5\t1\t2\t1\t2\t1\t63\t127\t52\t36\t96\t9.1\n",
      "2\t1\t3\t0\t0\t0\t11\t127\t270\t233\t-1\t\n",
      "3\t1\t3\t1\t0\t0\t11\t127\t240\t82\t-1\t\n",
      "4\t1\t3\t1\t1\t0\t11\t127\t240\t82\t-1\t\n",
      "5\t1\t3\t1\t1\t1\t11\t127\t240\t82\t96\tPALACE\n",
      "3\t1\t3\t2\t0\t0\t12\t224\t269\t89\t-1\t\n",
      "4\t1\t3\t2\t1\t0\t12\t224\t269\t44\t-1\t\n",
      "5\t1\t3\t2\t1\t1\t12\t224\t136\t44\t92\t(11.30,\n",
      "5\t1\t3\t2\t1\t2\t185\t225\t96\t40\t92\t2.45,\n",
      "4\t1\t3\t2\t2\t0\t63\t273\t173\t40\t-1\t\n",
      "5\t1\t3\t2\t2\t1\t63\t276\t36\t37\t91\t6,\n",
      "5\t1\t3\t2\t2\t2\t136\t273\t100\t39\t91\t9.15)\n",
      "3\t1\t3\t3\t0\t0\t11\t317\t204\t43\t-1\t\n",
      "4\t1\t3\t3\t1\t0\t11\t317\t204\t43\t-1\t\n",
      "5\t1\t3\t3\t1\t1\t11\t317\t204\t43\t96\tSURYA\n",
      "2\t1\t4\t0\t0\t0\t12\t372\t332\t85\t-1\t\n",
      "3\t1\t4\t1\t0\t0\t12\t372\t332\t85\t-1\t\n",
      "4\t1\t4\t1\t1\t0\t12\t372\t332\t45\t-1\t\n",
      "5\t1\t4\t1\t1\t1\t12\t379\t72\t38\t85\t(11,\n",
      "5\t1\t4\t1\t1\t2\t121\t376\t94\t36\t95\t2.30,\n",
      "5\t1\t4\t1\t1\t3\t249\t372\t95\t40\t95\t5.45,\n",
      "4\t1\t4\t1\t2\t0\t88\t423\t24\t34\t-1\t\n",
      "5\t1\t4\t1\t2\t1\t88\t423\t24\t34\t96\t9\n",
      "2\t1\t5\t0\t0\t0\t11\t425\t197\t83\t-1\t\n",
      "3\t1\t5\t1\t0\t0\t11\t425\t197\t83\t-1\t\n",
      "4\t1\t5\t1\t1\t0\t116\t425\t12\t38\t-1\t\n",
      "5\t1\t5\t1\t1\t1\t116\t425\t12\t38\t91\t)\n",
      "4\t1\t5\t1\t2\t0\t11\t464\t197\t44\t-1\t\n",
      "5\t1\t5\t1\t2\t1\t11\t464\t197\t44\t92\tNANDI\n",
      "2\t1\t6\t0\t0\t0\t12\t517\t411\t46\t-1\t\n",
      "3\t1\t6\t1\t0\t0\t12\t517\t411\t46\t-1\t\n",
      "4\t1\t6\t1\t1\t0\t12\t517\t411\t46\t-1\t\n",
      "5\t1\t6\t1\t1\t1\t12\t517\t73\t46\t94\t(11,\n",
      "5\t1\t6\t1\t1\t2\t119\t517\t94\t46\t95\t2.15,\n",
      "5\t1\t6\t1\t1\t3\t251\t521\t92\t39\t92\t5.45,\n",
      "5\t1\t6\t1\t1\t4\t383\t520\t40\t41\t94\t9)\n",
      "2\t1\t7\t0\t0\t0\t9\t572\t316\t264\t-1\t\n",
      "3\t1\t7\t1\t0\t0\t9\t572\t316\t264\t-1\t\n",
      "4\t1\t7\t1\t1\t0\t9\t572\t134\t35\t-1\t\n",
      "5\t1\t7\t1\t1\t1\t9\t572\t134\t35\t90\tJAYA\n",
      "4\t1\t7\t1\t2\t0\t11\t616\t174\t43\t-1\t\n",
      "5\t1\t7\t1\t2\t1\t11\t616\t174\t43\t41\t(Borivii)\n",
      "4\t1\t7\t1\t3\t0\t12\t663\t176\t36\t-1\t\n",
      "5\t1\t7\t1\t3\t1\t12\t663\t176\t36\t96\tAKASH\n",
      "4\t1\t7\t1\t4\t0\t11\t709\t152\t39\t-1\t\n",
      "5\t1\t7\t1\t4\t1\t11\t709\t152\t39\t94\t(Kurla)\n",
      "4\t1\t7\t1\t5\t0\t11\t753\t245\t38\t-1\t\n",
      "5\t1\t7\t1\t5\t1\t11\t753\t245\t38\t96\tPRAKASH\n",
      "4\t1\t7\t1\t6\t0\t12\t799\t313\t37\t-1\t\n",
      "5\t1\t7\t1\t6\t1\t12\t801\t164\t35\t79\t(Kalvan\n",
      "5\t1\t7\t1\t6\t2\t215\t799\t110\t37\t95\tCity)\n",
      "2\t1\t8\t0\t0\t0\t412\t4\t291\t55\t-1\t\n",
      "3\t1\t8\t1\t0\t0\t412\t4\t291\t55\t-1\t\n",
      "4\t1\t8\t1\t1\t0\t412\t4\t291\t55\t-1\t\n",
      "5\t1\t8\t1\t1\t1\t412\t8\t41\t41\t81\t*\n",
      "5\t1\t8\t1\t1\t2\t518\t4\t185\t55\t96\tREX\n",
      "2\t1\t9\t0\t0\t0\t434\t75\t340\t81\t-1\t\n",
      "3\t1\t9\t1\t0\t0\t434\t75\t340\t81\t-1\t\n",
      "4\t1\t9\t1\t1\t0\t434\t75\t340\t42\t-1\t\n",
      "5\t1\t9\t1\t1\t1\t434\t76\t132\t41\t90\t(11.45,\n",
      "5\t1\t9\t1\t1\t2\t604\t77\t35\t36\t88\t3,\n",
      "5\t1\t9\t1\t1\t3\t678\t75\t96\t40\t75\t6.15,\n",
      "4\t1\t9\t1\t2\t0\t601\t121\t84\t35\t-1\t\n",
      "5\t1\t9\t1\t2\t1\t601\t121\t84\t35\t96\t9.30\n",
      "2\t1\t10\t0\t0\t0\t458\t128\t322\t282\t-1\t\n",
      "3\t1\t10\t1\t0\t0\t510\t128\t268\t135\t-1\t\n",
      "4\t1\t10\t1\t1\t0\t626\t128\t74\t33\t-1\t\n",
      "5\t1\t10\t1\t1\t1\t626\t128\t74\t33\t72\t-30)\n",
      "4\t1\t10\t1\t2\t0\t510\t165\t268\t40\t-1\t\n",
      "5\t1\t10\t1\t2\t1\t510\t165\t268\t40\t92\tKUMKUM\n",
      "4\t1\t10\t1\t3\t0\t520\t223\t254\t40\t-1\t\n",
      "5\t1\t10\t1\t3\t1\t520\t223\t129\t40\t90\t(11.45,\n",
      "5\t1\t10\t1\t3\t2\t681\t223\t93\t38\t92\t2.30,\n",
      "3\t1\t10\t2\t0\t0\t554\t269\t155\t39\t-1\t\n",
      "4\t1\t10\t2\t1\t0\t554\t269\t155\t39\t-1\t\n",
      "5\t1\t10\t2\t1\t1\t554\t269\t94\t39\t76\t5.45,\n",
      "5\t1\t10\t2\t1\t2\t688\t269\t21\t34\t76\t9\n",
      "3\t1\t10\t3\t0\t0\t460\t312\t320\t44\t-1\t\n",
      "4\t1\t10\t3\t1\t0\t460\t312\t320\t44\t-1\t\n",
      "5\t1\t10\t3\t1\t1\t460\t312\t320\t44\t90\tCITYLIGHT\n",
      "3\t1\t10\t4\t0\t0\t458\t371\t316\t39\t-1\t\n",
      "4\t1\t10\t4\t1\t0\t458\t371\t316\t39\t-1\t\n",
      "5\t1\t10\t4\t1\t1\t458\t372\t126\t38\t87\t(11.15,\n",
      "5\t1\t10\t4\t1\t2\t611\t371\t96\t38\t96\t2.30,\n",
      "5\t1\t10\t4\t1\t3\t742\t372\t32\t36\t96\t6,\n",
      "2\t1\t11\t0\t0\t0\t433\t417\t347\t419\t-1\t\n",
      "3\t1\t11\t1\t0\t0\t433\t417\t347\t144\t-1\t\n",
      "4\t1\t11\t1\t1\t0\t446\t417\t254\t40\t-1\t\n",
      "5\t1\t11\t1\t1\t1\t446\t453\t6\t4\t0\t;\n",
      "5\t1\t11\t1\t1\t2\t601\t417\t99\t40\t65\t9.15)\n",
      "4\t1\t11\t1\t2\t0\t433\t460\t347\t52\t-1\t\n",
      "5\t1\t11\t1\t2\t1\t433\t460\t347\t52\t91\tTOPIWALLA\n",
      "4\t1\t11\t1\t3\t0\t498\t519\t227\t42\t-1\t\n",
      "5\t1\t11\t1\t3\t1\t498\t519\t227\t42\t91\t(Goregaon)\n",
      "3\t1\t11\t2\t0\t0\t454\t564\t323\t272\t-1\t\n",
      "4\t1\t11\t2\t1\t0\t577\t564\t176\t35\t-1\t\n",
      "5\t1\t11\t2\t1\t1\t577\t564\t176\t35\t89\tNATRA\n",
      "4\t1\t11\t2\t2\t0\t556\t611\t218\t40\t-1\t\n",
      "5\t1\t11\t2\t2\t1\t556\t611\t218\t40\t95\t(Chembur)\n",
      "4\t1\t11\t2\t3\t0\t548\t657\t228\t36\t-1\t\n",
      "5\t1\t11\t2\t3\t1\t548\t657\t228\t36\t91\tSHREYAS\n",
      "4\t1\t11\t2\t4\t0\t528\t701\t248\t43\t-1\t\n",
      "5\t1\t11\t2\t4\t1\t528\t701\t248\t43\t92\t(Ghatkopar)\n",
      "4\t1\t11\t2\t5\t0\t454\t748\t322\t37\t-1\t\n",
      "5\t1\t11\t2\t5\t1\t454\t748\t322\t37\t95\tPARAMOUNT\n",
      "4\t1\t11\t2\t6\t0\t456\t796\t321\t40\t-1\t\n",
      "5\t1\t11\t2\t6\t1\t456\t796\t155\t40\t95\t(Kalyan\n",
      "5\t1\t11\t2\t6\t2\t634\t796\t143\t40\t68\tCamp)\n"
     ]
    }
   ],
   "source": [
    "print(data2)"
   ]
  },
  {
   "cell_type": "code",
   "execution_count": null,
   "metadata": {},
   "outputs": [],
   "source": []
  }
 ],
 "metadata": {
  "kernelspec": {
   "display_name": "Python 3",
   "language": "python",
   "name": "python3"
  },
  "language_info": {
   "codemirror_mode": {
    "name": "ipython",
    "version": 3
   },
   "file_extension": ".py",
   "mimetype": "text/x-python",
   "name": "python",
   "nbconvert_exporter": "python",
   "pygments_lexer": "ipython3",
   "version": "3.7.2"
  }
 },
 "nbformat": 4,
 "nbformat_minor": 2
}
