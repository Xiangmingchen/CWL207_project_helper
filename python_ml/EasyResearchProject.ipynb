{
 "cells": [
  {
   "cell_type": "code",
   "execution_count": 1,
   "metadata": {},
   "outputs": [],
   "source": [
    "from PIL import Image\n",
    "import matplotlib.pyplot as plt\n",
    "import numpy as np\n",
    "import pytesseract\n",
    "import cv2\n",
    "import os\n",
    "from openpyxl import load_workbook # library for excel read and write\n",
    "import re # regex\n",
    "import datetime"
   ]
  },
  {
   "cell_type": "markdown",
   "metadata": {},
   "source": [
    "# Read in image and OCR"
   ]
  },
  {
   "cell_type": "code",
   "execution_count": 2,
   "metadata": {},
   "outputs": [],
   "source": [
    "def readImage(filename):\n",
    "    img1 = Image.open(filename)\n",
    "    return pytesseract.image_to_string(img1)"
   ]
  },
  {
   "cell_type": "markdown",
   "metadata": {},
   "source": [
    "# Process text"
   ]
  },
  {
   "cell_type": "code",
   "execution_count": 3,
   "metadata": {},
   "outputs": [],
   "source": [
    "class MovieEntry:\n",
    "    def __init__(self, movieName, theaterNames):\n",
    "        self.movieName = movieName\n",
    "        self.theaterNames = theaterNames\n",
    "    \n",
    "    def __str__(self):\n",
    "        return \"< Movie: {} in theater: {}\".format(self.movieName, self.theaterNames)"
   ]
  },
  {
   "cell_type": "code",
   "execution_count": 4,
   "metadata": {},
   "outputs": [],
   "source": [
    "# replace punctuation by regular expression\n",
    "def processText(string):\n",
    "    no_punc = re.sub(r'[^\\w\\s\\(\\)]','',string)\n",
    "    paragraphs = no_punc.split(\"\\n\\n\")\n",
    "    return paragraphs"
   ]
  },
  {
   "cell_type": "code",
   "execution_count": 5,
   "metadata": {},
   "outputs": [],
   "source": [
    "def isCapitalizedWord(word):\n",
    "    return word.isalpha() and word.isupper()\n",
    "\n",
    "\n",
    "def getNormalMovieEntries(paragraphs, loud=False):\n",
    "    movieEntrys = []\n",
    "    hasPrevParagraph = False\n",
    "\n",
    "    for paragraph in paragraphs:\n",
    "        words = paragraph.split()\n",
    "        \n",
    "        if len(words) == 0:\n",
    "            continue\n",
    "        \n",
    "        isContinuation = not isCapitalizedWord(words[0])\n",
    "        if loud and isContinuation:\n",
    "            print(\"Continue the last paragraph because {} is not capitalized\".format(words[0]))\n",
    "        # it is possible that this paragraph is accidentally separated from the \n",
    "        # previous one, whenever the new paragraph doesn't start with a capitalized\n",
    "        # word (movie name), make it a continuation of the last paragraph\n",
    "        if not isContinuation:\n",
    "            isMovieName = True\n",
    "            movieName = [] # array that contains movie names\n",
    "            theaterNames = []\n",
    "            maxNumTime = 0\n",
    "            numTime = 0\n",
    "            hasPrevParagraph = True\n",
    "            justAdded = False\n",
    "        elif not hasPrevParagraph:\n",
    "            continue\n",
    "\n",
    "        for i, word in enumerate(words):\n",
    "\n",
    "            # store movie name by taking the first few capitalized words\n",
    "            if isMovieName and isCapitalizedWord(word) and len(word) > 1:\n",
    "                movieName.append(word)\n",
    "            # stop taking movie name when seeing the first non capitalized word\n",
    "            else:\n",
    "                isMovieName = False\n",
    "\n",
    "            # Get theater names if it's capitalized\n",
    "            if not isMovieName and isCapitalizedWord(word) and len(word) > 1:\n",
    "                # if the next word starts with a (, include it\n",
    "                if i + 1 < len(words) and words[i+1][0] == \"(\":\n",
    "                    theaterNames.append(word + \" \" + words[i+1])\n",
    "                else:\n",
    "                    theaterNames.append(word)\n",
    "\n",
    "            # judge whether it's a primary showing by\n",
    "            # the number of time slots it has\n",
    "            if word.isdigit():\n",
    "                numTime += 1\n",
    "            else:\n",
    "                numTime = 0\n",
    "\n",
    "            if numTime > maxNumTime:\n",
    "                maxNumTime = numTime\n",
    "        \n",
    "        if loud and len(movieName) > 0:\n",
    "            print(movieName)\n",
    "        if loud:\n",
    "            if len(theaterNames) > 0:\n",
    "                print(theaterNames)\n",
    "            else:\n",
    "                print(\"No theaters found\")\n",
    "        \n",
    "        if loud:\n",
    "            print(\"Max number of time slots: {}\".format(maxNumTime))\n",
    "        \n",
    "        # if this is a valid paragraph, and the number of\n",
    "        # show times is more than 1, then it's a primary showing\n",
    "        if maxNumTime > 1 and len(movieName) > 0 and len(theaterNames) > 0:\n",
    "            if isContinuation and justAdded:\n",
    "                movieEntrys.pop()\n",
    "            movieEntrys.append(MovieEntry(movieName, theaterNames))\n",
    "            justAdded = True\n",
    "        \n",
    "    return movieEntrys"
   ]
  },
  {
   "cell_type": "code",
   "execution_count": 15,
   "metadata": {},
   "outputs": [],
   "source": [
    "def testSingleLetter(arr):\n",
    "    allSingle = True\n",
    "    for string in arr:\n",
    "        if len(string) != 1:\n",
    "            allSingle = False\n",
    "            break\n",
    "    return allSingle\n",
    "\n",
    "def getForeignMovieEntries(paragraphs, loud=False):\n",
    "    movieEntrys = []\n",
    "    hasPrevParagraph = False\n",
    "\n",
    "    for paragraph in paragraphs:\n",
    "        words = paragraph.split()\n",
    "\n",
    "        if len(words) == 0:\n",
    "            continue\n",
    "\n",
    "        isContinuation = not isCapitalizedWord(words[0])\n",
    "        if loud and isContinuation:\n",
    "            print(\"Continue the last paragraph because {} is not capitalized\".format(words[0]))\n",
    "\n",
    "        # it is possible that this paragraph is accidentally separated from the \n",
    "        # previous one, whenever the new paragraph doesn't start with a capitalized\n",
    "        # word (movie name), make it a continuation of the last paragraph\n",
    "        if not isContinuation:\n",
    "            isTheaterName = True\n",
    "            isTakingMovieName = 0 # 0: before, 1: taking, 2: after\n",
    "            theaterName = []\n",
    "            movieName = []\n",
    "            numTime = 0\n",
    "            maxNumTime = 0\n",
    "            hasPrevParagraph = True\n",
    "            justAdded = False\n",
    "        elif not hasPrevParagraph:\n",
    "            continue\n",
    "\n",
    "\n",
    "        for i, word in enumerate(words):\n",
    "\n",
    "            # store movie name by taking the first few capitalized words\n",
    "            if isTheaterName and isCapitalizedWord(word) and len(word) > 1:\n",
    "                theaterName.append(word)\n",
    "            # stop taking theater name when seeing the first non capitalized word\n",
    "            else:\n",
    "                isTheaterName = False\n",
    "\n",
    "            # Get movie names that is after the show times\n",
    "            if not isTheaterName and isTakingMovieName != 2 and maxNumTime > 1 \\\n",
    "                and isCapitalizedWord(word):\n",
    "                movieName.append(word)\n",
    "                isTakingMovieName = 1\n",
    "            elif isTakingMovieName == 1:\n",
    "                allSingleLetter = testSingleLetter(movieName)\n",
    "                if allSingleLetter:\n",
    "                    movieName.clear()\n",
    "                    isTakingMovieName = 0\n",
    "                else:\n",
    "                    isTakingMovieName = 2\n",
    "\n",
    "            # record the number of time slots it has\n",
    "            if word.isdigit():\n",
    "                numTime += 1\n",
    "            else:\n",
    "                numTime = 0\n",
    "\n",
    "            if numTime > maxNumTime:\n",
    "                maxNumTime = numTime\n",
    "\n",
    "        if loud:\n",
    "            if len(movieName) > 0:\n",
    "                print(\"Movie: \", movieName)\n",
    "            else:\n",
    "                print(\"No movies found\")\n",
    "        if loud:\n",
    "            if len(theaterName) > 0:\n",
    "                print(\"Theater: \", theaterName)\n",
    "\n",
    "\n",
    "        if loud:\n",
    "            print(\"Max number of time slots: {}\".format(maxNumTime))\n",
    "\n",
    "        # if this is a valid paragraph, and the number of\n",
    "        # show times is more than 1, then it's a primary showing\n",
    "        if maxNumTime > 1 and len(movieName) > 0 and len(theaterName) > 0:\n",
    "            if isContinuation and justAdded:\n",
    "                movieEntrys.pop()\n",
    "            movieEntrys.append(MovieEntry(movieName, theaterName))\n",
    "            justAdded = True  \n",
    "            \n",
    "    return movieEntrys"
   ]
  },
  {
   "cell_type": "markdown",
   "metadata": {},
   "source": [
    "# Read movie names from excel template"
   ]
  },
  {
   "cell_type": "code",
   "execution_count": 7,
   "metadata": {},
   "outputs": [],
   "source": [
    "# ws: worksheet\n",
    "def getTheaterInfo(ws):\n",
    "    providedMovieNames = []\n",
    "    theaterToRow = {}\n",
    "    for i, cell in enumerate(ws['A']):\n",
    "        if i != 0:\n",
    "            providedMovieNames.append(cell.value)\n",
    "            theaterToRow[cell.value] = i\n",
    "    return providedMovieNames, theaterToRow"
   ]
  },
  {
   "cell_type": "markdown",
   "metadata": {},
   "source": [
    "# Filter valid theater names"
   ]
  },
  {
   "cell_type": "code",
   "execution_count": 8,
   "metadata": {},
   "outputs": [],
   "source": [
    "# fuzzy search to fill in movie name\n",
    "from fuzzywuzzy import fuzz \n",
    "from fuzzywuzzy import process\n",
    "\n",
    "def sortByScore(a):\n",
    "    return a[1]\n",
    "\n",
    "def filterEntries(movieEntrys, providedTheaterNames, listOfTowns, townThreshold=80, theaterThreshold=85):\n",
    "    validEntries = []\n",
    "\n",
    "    for entry in movieEntrys:\n",
    "        name = \" \".join(entry.movieName)\n",
    "        theaters = []\n",
    "\n",
    "        for i, theaterName in enumerate(entry.theaterNames):\n",
    "            # extract the top two closest theater names\n",
    "            potentials = process.extract(theaterName, providedTheaterNames, limit=2)\n",
    "\n",
    "            # if the theater has a location within a parentheses\n",
    "            if \"(\" in theaterName:\n",
    "                # get the town name\n",
    "                town = theaterName[theaterName.index(\"(\"):]\n",
    "                town = town.replace(\"(\", \"\")\n",
    "                town = town.replace(\")\", \"\")\n",
    "\n",
    "                # get the theater name without the town\n",
    "                without_parenth = theaterName[:theaterName.index(\"(\")]\n",
    "                # get more potential theaters with just the theater name\n",
    "                potentials.extend(process.extract(without_parenth, providedTheaterNames, limit=2))\n",
    "                # get the potential towns\n",
    "                potentialTowns = process.extract(town, listOfTowns)\n",
    "\n",
    "                # sort both potentials by score\n",
    "                potentials.sort(key=sortByScore, reverse=True)\n",
    "                potentialTowns.sort(key=sortByScore, reverse=True)\n",
    "\n",
    "                # take the highest score\n",
    "                if potentialTowns[0][1] > townThreshold and potentials[0][1] > theaterThreshold and potentials[0][0] not in theaters:\n",
    "                    theaters.append(potentials[0][0])\n",
    "\n",
    "            else:\n",
    "                potentials.sort(key=sortByScore, reverse=True)\n",
    "\n",
    "                if potentials[0][1] > theaterThreshold and potentials[0][0] not in theaters:\n",
    "                    theaters.append(potentials[0][0])\n",
    "\n",
    "        if len(theaters) > 0:\n",
    "            newEntry = MovieEntry(name.title(), theaters)\n",
    "            validEntries.append(newEntry)\n",
    "\n",
    "    return validEntries"
   ]
  },
  {
   "cell_type": "markdown",
   "metadata": {},
   "source": [
    "# Fill in Excel"
   ]
  },
  {
   "cell_type": "code",
   "execution_count": 9,
   "metadata": {},
   "outputs": [],
   "source": [
    "listOfTowns = [\n",
    "    \"Andheri\",\n",
    "    \"Bandra\",\n",
    "    \"Bassein\",\n",
    "    \"Bhandup\",\n",
    "    \"Bhivandi\",\n",
    "    \"Borivli\",\n",
    "    \"Chembur\",\n",
    "    \"Colaba\",\n",
    "    \"Delisle Road\",\n",
    "    \"Ghatkopar\",\n",
    "    \"Goregaon\",\n",
    "    \"Jogeshwari\",\n",
    "    \"Juhu\",\n",
    "    \"Kalyan\",\n",
    "    \"Kandivli\",\n",
    "    \"Kurla\",\n",
    "    \"Malad\",\n",
    "    \"Matunga\",\n",
    "    \"Mazgaon\",\n",
    "    \"Mulund\",\n",
    "    \"Naroda\",\n",
    "    \"Panvel\",\n",
    "    \"Parle\",\n",
    "    \"Santa Cruz\",\n",
    "    \"Thana\",\n",
    "    \"Ulhasnagar\"\n",
    "]"
   ]
  },
  {
   "cell_type": "code",
   "execution_count": 17,
   "metadata": {},
   "outputs": [],
   "source": [
    "def fillInExcelWithEntries(ws, day, validEntries, theaterToRow):\n",
    "    for entry in validEntries:\n",
    "        for theater in entry.theaterNames:\n",
    "            ws.cell(column=day+1, row=theaterToRow[theater]+1, value=entry.movieName)"
   ]
  },
  {
   "cell_type": "markdown",
   "metadata": {},
   "source": [
    "# All in all"
   ]
  },
  {
   "cell_type": "code",
   "execution_count": 18,
   "metadata": {},
   "outputs": [],
   "source": [
    "from tqdm import tqdm\n",
    "def easyFillIn(imageNames, workbookName, writeFileName, normal=True):\n",
    "    wb = load_workbook(filename=workbookName)\n",
    "    ws = wb.active # get the first worksheet\n",
    "    providedTheaterNames, theaterToRow = getTheaterInfo(ws)\n",
    "    for imageName in tqdm(imageNames):\n",
    "        day = int(imageName.split(\"_\")[2])\n",
    "        text = readImage(imageName)\n",
    "        paragraphs = processText(text)\n",
    "        if normal:\n",
    "            rawEntries = getNormalMovieEntries(paragraphs)\n",
    "        else: # foreign\n",
    "            rawEntries = getForeignMovieEntries(paragraphs)\n",
    "        validEntries = filterEntries(rawEntries, providedTheaterNames, listOfTowns)\n",
    "        fillInExcelWithEntries(ws, day, validEntries, theaterToRow)\n",
    "    wb.save(filename=writeFileName)"
   ]
  },
  {
   "cell_type": "code",
   "execution_count": 12,
   "metadata": {},
   "outputs": [],
   "source": [
    "from os import listdir\n",
    "from os.path import isfile, join\n",
    "# no foreign movies\n",
    "imageNames = [\"data/\" + f for f in listdir(\"data/\") if 'f' in f and '.png' in f]"
   ]
  },
  {
   "cell_type": "code",
   "execution_count": 20,
   "metadata": {
    "scrolled": true
   },
   "outputs": [
    {
     "name": "stderr",
     "output_type": "stream",
     "text": [
      "100%|██████████| 28/28 [01:07<00:00,  2.53s/it]\n"
     ]
    }
   ],
   "source": [
    "\n",
    "easyFillIn(imageNames, \n",
    "           \"test.xlsx\", \"test2.xlsx\", False)"
   ]
  },
  {
   "cell_type": "code",
   "execution_count": null,
   "metadata": {},
   "outputs": [],
   "source": []
  }
 ],
 "metadata": {
  "kernelspec": {
   "display_name": "Python 3",
   "language": "python",
   "name": "python3"
  },
  "language_info": {
   "codemirror_mode": {
    "name": "ipython",
    "version": 3
   },
   "file_extension": ".py",
   "mimetype": "text/x-python",
   "name": "python",
   "nbconvert_exporter": "python",
   "pygments_lexer": "ipython3",
   "version": "3.7.3"
  }
 },
 "nbformat": 4,
 "nbformat_minor": 2
}
